{
 "cells": [
  {
   "cell_type": "code",
   "execution_count": null,
   "metadata": {},
   "outputs": [],
   "source": [
    "import pandas as pd\n",
    "import numpy as np\n",
    "import matplotlib.pyplot as plt\n",
    "import copy\n",
    "import math\n",
    "%matplotlib inline"
   ]
  },
  {
   "cell_type": "code",
   "execution_count": null,
   "metadata": {},
   "outputs": [],
   "source": [
    "\n",
    "\n",
    "def load_data():\n",
    "    data = np.loadtxt(\"data/ex1data1.txt\", delimiter=',')\n",
    "    X = data[:,0]\n",
    "    y = data[:,1]\n",
    "    return X, y\n",
    "\n",
    "def load_data_multi():\n",
    "    data = np.loadtxt(\"data/ex1data2.txt\", delimiter=',')\n",
    "    X = data[:,:2]\n",
    "    y = data[:,2]\n",
    "    return X, y\n",
    "\n",
    "x_train, y_train = load_data()"
   ]
  },
  {
   "cell_type": "code",
   "execution_count": null,
   "metadata": {},
   "outputs": [],
   "source": [
    "x_train,y_train"
   ]
  },
  {
   "cell_type": "code",
   "execution_count": null,
   "metadata": {},
   "outputs": [],
   "source": [
    "print ('The shape of x_train is:', x_train.shape)\n",
    "print ('The shape of y_train is: ', y_train.shape)\n",
    "print ('Number of training examples (m):', len(x_train))"
   ]
  },
  {
   "cell_type": "code",
   "execution_count": null,
   "metadata": {},
   "outputs": [],
   "source": [
    "import numpy as np\n",
    "\n",
    "def load_data():\n",
    "    data = np.loadtxt(\"data/ex1data1.txt\", delimiter=',')\n",
    "    X = data[:,0]\n",
    "    y = data[:,1]\n",
    "    return X, y\n",
    "\n",
    "def load_data_multi():\n",
    "    data = np.loadtxt(\"data/ex1data2.txt\", delimiter=',')\n",
    "    X = data[:,:2]\n",
    "    y = data[:,2]\n",
    "    return X, y"
   ]
  },
  {
   "cell_type": "code",
   "execution_count": null,
   "metadata": {},
   "outputs": [],
   "source": [
    "\n",
    "\n",
    "# Create a scatter plot of the data\n",
    "plt.scatter(x_train_np, y_train_np, marker='x', c='red')\n",
    "\n",
    "# Set the title\n",
    "plt.title(\"Profits vs. Population per city\")\n",
    "\n",
    "# Set the y-axis label\n",
    "plt.ylabel('Profit in $10,000')\n",
    "\n",
    "# Set the x-axis label\n",
    "plt.xlabel('Population of City in 10,000s')\n",
    "\n",
    "# Show the plot\n",
    "plt.show()"
   ]
  },
  {
   "cell_type": "code",
   "execution_count": null,
   "metadata": {},
   "outputs": [],
   "source": []
  }
 ],
 "metadata": {
  "kernelspec": {
   "display_name": "base",
   "language": "python",
   "name": "python3"
  },
  "language_info": {
   "codemirror_mode": {
    "name": "ipython",
    "version": 3
   },
   "file_extension": ".py",
   "mimetype": "text/x-python",
   "name": "python",
   "nbconvert_exporter": "python",
   "pygments_lexer": "ipython3",
   "version": "3.9.13"
  },
  "orig_nbformat": 4,
  "vscode": {
   "interpreter": {
    "hash": "076ea2df6a962f3ca9feed853ca00bbf4379b68c3a07478b3b9a2535b0488b8d"
   }
  }
 },
 "nbformat": 4,
 "nbformat_minor": 2
}
